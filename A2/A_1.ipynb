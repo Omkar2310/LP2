{
 "cells": [
  {
   "cell_type": "code",
   "execution_count": 46,
   "metadata": {},
   "outputs": [],
   "source": [
    "import numpy as np # linear algebra\n",
    "import pandas as pd # data processing, CSV file I/O (e.g. pd.read_csv)\n",
    "from sklearn import cluster\n",
    "from sklearn.neighbors import KNeighborsClassifier\n",
    "import warnings # current version of seaborn generates a bunch of warnings that we'll ignore\n",
    "warnings.filterwarnings(\"ignore\")\n",
    "import seaborn as sns\n",
    "from sklearn.cluster import KMeans \n",
    "import matplotlib.pyplot as plt"
   ]
  },
  {
   "cell_type": "code",
   "execution_count": 31,
   "metadata": {},
   "outputs": [],
   "source": [
    "\n",
    "#importing the Iris dataset with pandas\n",
    "dataset = pd.read_csv('Iris.csv')\n",
    "x = dataset.iloc[:, [1, 2, 3, 4]].values"
   ]
  },
  {
   "cell_type": "code",
   "execution_count": 32,
   "metadata": {},
   "outputs": [],
   "source": [
    "x = df.iloc[:, [1, 2, 3, 4]].values"
   ]
  },
  {
   "cell_type": "code",
   "execution_count": 33,
   "metadata": {},
   "outputs": [
    {
     "data": {
      "text/plain": [
       "array([[3.5, 1.4, 0.2, 'Setosa'],\n",
       "       [3.0, 1.4, 0.2, 'Setosa'],\n",
       "       [3.2, 1.3, 0.2, 'Setosa'],\n",
       "       [3.1, 1.5, 0.2, 'Setosa'],\n",
       "       [3.6, 1.4, 0.2, 'Setosa'],\n",
       "       [3.9, 1.7, 0.4, 'Setosa'],\n",
       "       [3.4, 1.4, 0.3, 'Setosa'],\n",
       "       [3.4, 1.5, 0.2, 'Setosa'],\n",
       "       [2.9, 1.4, 0.2, 'Setosa'],\n",
       "       [3.1, 1.5, 0.1, 'Setosa'],\n",
       "       [3.7, 1.5, 0.2, 'Setosa'],\n",
       "       [3.4, 1.6, 0.2, 'Setosa'],\n",
       "       [3.0, 1.4, 0.1, 'Setosa'],\n",
       "       [3.0, 1.1, 0.1, 'Setosa'],\n",
       "       [4.0, 1.2, 0.2, 'Setosa'],\n",
       "       [4.4, 1.5, 0.4, 'Setosa'],\n",
       "       [3.9, 1.3, 0.4, 'Setosa'],\n",
       "       [3.5, 1.4, 0.3, 'Setosa'],\n",
       "       [3.8, 1.7, 0.3, 'Setosa'],\n",
       "       [3.8, 1.5, 0.3, 'Setosa'],\n",
       "       [3.4, 1.7, 0.2, 'Setosa'],\n",
       "       [3.7, 1.5, 0.4, 'Setosa'],\n",
       "       [3.6, 1.0, 0.2, 'Setosa'],\n",
       "       [3.3, 1.7, 0.5, 'Setosa'],\n",
       "       [3.4, 1.9, 0.2, 'Setosa'],\n",
       "       [3.0, 1.6, 0.2, 'Setosa'],\n",
       "       [3.4, 1.6, 0.4, 'Setosa'],\n",
       "       [3.5, 1.5, 0.2, 'Setosa'],\n",
       "       [3.4, 1.4, 0.2, 'Setosa'],\n",
       "       [3.2, 1.6, 0.2, 'Setosa'],\n",
       "       [3.1, 1.6, 0.2, 'Setosa'],\n",
       "       [3.4, 1.5, 0.4, 'Setosa'],\n",
       "       [4.1, 1.5, 0.1, 'Setosa'],\n",
       "       [4.2, 1.4, 0.2, 'Setosa'],\n",
       "       [3.1, 1.5, 0.2, 'Setosa'],\n",
       "       [3.2, 1.2, 0.2, 'Setosa'],\n",
       "       [3.5, 1.3, 0.2, 'Setosa'],\n",
       "       [3.6, 1.4, 0.1, 'Setosa'],\n",
       "       [3.0, 1.3, 0.2, 'Setosa'],\n",
       "       [3.4, 1.5, 0.2, 'Setosa'],\n",
       "       [3.5, 1.3, 0.3, 'Setosa'],\n",
       "       [2.3, 1.3, 0.3, 'Setosa'],\n",
       "       [3.2, 1.3, 0.2, 'Setosa'],\n",
       "       [3.5, 1.6, 0.6, 'Setosa'],\n",
       "       [3.8, 1.9, 0.4, 'Setosa'],\n",
       "       [3.0, 1.4, 0.3, 'Setosa'],\n",
       "       [3.8, 1.6, 0.2, 'Setosa'],\n",
       "       [3.2, 1.4, 0.2, 'Setosa'],\n",
       "       [3.7, 1.5, 0.2, 'Setosa'],\n",
       "       [3.3, 1.4, 0.2, 'Setosa'],\n",
       "       [3.2, 4.7, 1.4, 'Versicolor'],\n",
       "       [3.2, 4.5, 1.5, 'Versicolor'],\n",
       "       [3.1, 4.9, 1.5, 'Versicolor'],\n",
       "       [2.3, 4.0, 1.3, 'Versicolor'],\n",
       "       [2.8, 4.6, 1.5, 'Versicolor'],\n",
       "       [2.8, 4.5, 1.3, 'Versicolor'],\n",
       "       [3.3, 4.7, 1.6, 'Versicolor'],\n",
       "       [2.4, 3.3, 1.0, 'Versicolor'],\n",
       "       [2.9, 4.6, 1.3, 'Versicolor'],\n",
       "       [2.7, 3.9, 1.4, 'Versicolor'],\n",
       "       [2.0, 3.5, 1.0, 'Versicolor'],\n",
       "       [3.0, 4.2, 1.5, 'Versicolor'],\n",
       "       [2.2, 4.0, 1.0, 'Versicolor'],\n",
       "       [2.9, 4.7, 1.4, 'Versicolor'],\n",
       "       [2.9, 3.6, 1.3, 'Versicolor'],\n",
       "       [3.1, 4.4, 1.4, 'Versicolor'],\n",
       "       [3.0, 4.5, 1.5, 'Versicolor'],\n",
       "       [2.7, 4.1, 1.0, 'Versicolor'],\n",
       "       [2.2, 4.5, 1.5, 'Versicolor'],\n",
       "       [2.5, 3.9, 1.1, 'Versicolor'],\n",
       "       [3.2, 4.8, 1.8, 'Versicolor'],\n",
       "       [2.8, 4.0, 1.3, 'Versicolor'],\n",
       "       [2.5, 4.9, 1.5, 'Versicolor'],\n",
       "       [2.8, 4.7, 1.2, 'Versicolor'],\n",
       "       [2.9, 4.3, 1.3, 'Versicolor'],\n",
       "       [3.0, 4.4, 1.4, 'Versicolor'],\n",
       "       [2.8, 4.8, 1.4, 'Versicolor'],\n",
       "       [3.0, 5.0, 1.7, 'Versicolor'],\n",
       "       [2.9, 4.5, 1.5, 'Versicolor'],\n",
       "       [2.6, 3.5, 1.0, 'Versicolor'],\n",
       "       [2.4, 3.8, 1.1, 'Versicolor'],\n",
       "       [2.4, 3.7, 1.0, 'Versicolor'],\n",
       "       [2.7, 3.9, 1.2, 'Versicolor'],\n",
       "       [2.7, 5.1, 1.6, 'Versicolor'],\n",
       "       [3.0, 4.5, 1.5, 'Versicolor'],\n",
       "       [3.4, 4.5, 1.6, 'Versicolor'],\n",
       "       [3.1, 4.7, 1.5, 'Versicolor'],\n",
       "       [2.3, 4.4, 1.3, 'Versicolor'],\n",
       "       [3.0, 4.1, 1.3, 'Versicolor'],\n",
       "       [2.5, 4.0, 1.3, 'Versicolor'],\n",
       "       [2.6, 4.4, 1.2, 'Versicolor'],\n",
       "       [3.0, 4.6, 1.4, 'Versicolor'],\n",
       "       [2.6, 4.0, 1.2, 'Versicolor'],\n",
       "       [2.3, 3.3, 1.0, 'Versicolor'],\n",
       "       [2.7, 4.2, 1.3, 'Versicolor'],\n",
       "       [3.0, 4.2, 1.2, 'Versicolor'],\n",
       "       [2.9, 4.2, 1.3, 'Versicolor'],\n",
       "       [2.9, 4.3, 1.3, 'Versicolor'],\n",
       "       [2.5, 3.0, 1.1, 'Versicolor'],\n",
       "       [2.8, 4.1, 1.3, 'Versicolor'],\n",
       "       [3.3, 6.0, 2.5, 'Virginica'],\n",
       "       [2.7, 5.1, 1.9, 'Virginica'],\n",
       "       [3.0, 5.9, 2.1, 'Virginica'],\n",
       "       [2.9, 5.6, 1.8, 'Virginica'],\n",
       "       [3.0, 5.8, 2.2, 'Virginica'],\n",
       "       [3.0, 6.6, 2.1, 'Virginica'],\n",
       "       [2.5, 4.5, 1.7, 'Virginica'],\n",
       "       [2.9, 6.3, 1.8, 'Virginica'],\n",
       "       [2.5, 5.8, 1.8, 'Virginica'],\n",
       "       [3.6, 6.1, 2.5, 'Virginica'],\n",
       "       [3.2, 5.1, 2.0, 'Virginica'],\n",
       "       [2.7, 5.3, 1.9, 'Virginica'],\n",
       "       [3.0, 5.5, 2.1, 'Virginica'],\n",
       "       [2.5, 5.0, 2.0, 'Virginica'],\n",
       "       [2.8, 5.1, 2.4, 'Virginica'],\n",
       "       [3.2, 5.3, 2.3, 'Virginica'],\n",
       "       [3.0, 5.5, 1.8, 'Virginica'],\n",
       "       [3.8, 6.7, 2.2, 'Virginica'],\n",
       "       [2.6, 6.9, 2.3, 'Virginica'],\n",
       "       [2.2, 5.0, 1.5, 'Virginica'],\n",
       "       [3.2, 5.7, 2.3, 'Virginica'],\n",
       "       [2.8, 4.9, 2.0, 'Virginica'],\n",
       "       [2.8, 6.7, 2.0, 'Virginica'],\n",
       "       [2.7, 4.9, 1.8, 'Virginica'],\n",
       "       [3.3, 5.7, 2.1, 'Virginica'],\n",
       "       [3.2, 6.0, 1.8, 'Virginica'],\n",
       "       [2.8, 4.8, 1.8, 'Virginica'],\n",
       "       [3.0, 4.9, 1.8, 'Virginica'],\n",
       "       [2.8, 5.6, 2.1, 'Virginica'],\n",
       "       [3.0, 5.8, 1.6, 'Virginica'],\n",
       "       [2.8, 6.1, 1.9, 'Virginica'],\n",
       "       [3.8, 6.4, 2.0, 'Virginica'],\n",
       "       [2.8, 5.6, 2.2, 'Virginica'],\n",
       "       [2.8, 5.1, 1.5, 'Virginica'],\n",
       "       [2.6, 5.6, 1.4, 'Virginica'],\n",
       "       [3.0, 6.1, 2.3, 'Virginica'],\n",
       "       [3.4, 5.6, 2.4, 'Virginica'],\n",
       "       [3.1, 5.5, 1.8, 'Virginica'],\n",
       "       [3.0, 4.8, 1.8, 'Virginica'],\n",
       "       [3.1, 5.4, 2.1, 'Virginica'],\n",
       "       [3.1, 5.6, 2.4, 'Virginica'],\n",
       "       [3.1, 5.1, 2.3, 'Virginica'],\n",
       "       [2.7, 5.1, 1.9, 'Virginica'],\n",
       "       [3.2, 5.9, 2.3, 'Virginica'],\n",
       "       [3.3, 5.7, 2.5, 'Virginica'],\n",
       "       [3.0, 5.2, 2.3, 'Virginica'],\n",
       "       [2.5, 5.0, 1.9, 'Virginica'],\n",
       "       [3.0, 5.2, 2.0, 'Virginica'],\n",
       "       [3.4, 5.4, 2.3, 'Virginica'],\n",
       "       [3.0, 5.1, 1.8, 'Virginica']], dtype=object)"
      ]
     },
     "execution_count": 33,
     "metadata": {},
     "output_type": "execute_result"
    }
   ],
   "source": [
    "x"
   ]
  },
  {
   "cell_type": "code",
   "execution_count": 41,
   "metadata": {},
   "outputs": [],
   "source": [
    "x = dataset.iloc[:, [0,1,2,3]].values"
   ]
  },
  {
   "cell_type": "code",
   "execution_count": 42,
   "metadata": {},
   "outputs": [
    {
     "name": "stdout",
     "output_type": "stream",
     "text": [
      "[3 3 3 3 3 3 3 3 3 3 3 3 3 3 3 3 3 3 3 3 3 3 3 3 3 3 3 3 3 3 1 1 1 1 1 1 1\n",
      " 1 1 1 1 1 1 1 1 1 1 1 1 1 1 1 1 1 1 1 1 1 1 1 2 2 2 2 2 2 2 2 2 2 2 2 2 2\n",
      " 2 2 2 2 2 2 2 2 2 2 2 2 2 2 2 2 4 4 4 4 4 4 4 4 4 4 4 4 4 4 4 4 4 4 4 4 4\n",
      " 4 4 4 4 4 4 4 4 4 0 0 0 0 0 0 0 0 0 0 0 0 0 0 0 0 0 0 0 0 0 0 0 0 0 0 0 0\n",
      " 0 0]\n"
     ]
    },
    {
     "data": {
      "text/plain": [
       "array([[135.5       ,   6.60666667,   3.01      ,   5.48333333],\n",
       "       [ 45.5       ,   5.35      ,   3.20333333,   2.42333333],\n",
       "       [ 75.5       ,   5.98      ,   2.75      ,   4.3       ],\n",
       "       [ 15.5       ,   5.02666667,   3.45      ,   1.47333333],\n",
       "       [105.5       ,   6.25333333,   2.85666667,   5.11333333]])"
      ]
     },
     "execution_count": 42,
     "metadata": {},
     "output_type": "execute_result"
    }
   ],
   "source": [
    "kmeans5 = KMeans(n_clusters=5)\n",
    "y_kmeans5 = kmeans5.fit_predict(x)\n",
    "print(y_kmeans5)\n",
    "\n",
    "kmeans5.cluster_centers_"
   ]
  },
  {
   "cell_type": "code",
   "execution_count": 43,
   "metadata": {},
   "outputs": [
    {
     "data": {
      "image/png": "[encoded data removed]",
      "text/plain": [
       "<Figure size 432x288 with 1 Axes>"
      ]
     },
     "metadata": {
      "needs_background": "light"
     },
     "output_type": "display_data"
    }
   ],
   "source": [
    "Error =[]\n",
    "for i in range(1, 11):\n",
    "    kmeans = KMeans(n_clusters = i).fit(x)\n",
    "    kmeans.fit(x)\n",
    "    Error.append(kmeans.inertia_)\n",
    "import matplotlib.pyplot as plt\n",
    "plt.plot(range(1, 11), Error)\n",
    "plt.title('Elbow method')\n",
    "plt.xlabel('No of clusters')\n",
    "plt.ylabel('Error')\n",
    "plt.show()"
   ]
  },
  {
   "cell_type": "code",
   "execution_count": 53,
   "metadata": {},
   "outputs": [],
   "source": [
    "kmeans3 = KMeans(n_clusters=3)\n",
    "y_kmeans3 = kmeans3.fit_predict(x)\n",
    "\n"
   ]
  },
  {
   "cell_type": "code",
   "execution_count": 54,
   "metadata": {},
   "outputs": [
    {
     "name": "stdout",
     "output_type": "stream",
     "text": [
      "[1 1 1 1 1 1 1 1 1 1 1 1 1 1 1 1 1 1 1 1 1 1 1 1 1 1 1 1 1 1 1 1 1 1 1 1 1\n",
      " 1 1 1 1 1 1 1 1 1 1 1 1 1 2 2 2 2 2 2 2 2 2 2 2 2 2 2 2 2 2 2 2 2 2 2 2 2\n",
      " 2 2 2 2 2 2 2 2 2 2 2 2 2 2 2 2 2 2 2 2 2 2 2 2 2 2 0 0 0 0 0 0 0 0 0 0 0\n",
      " 0 0 0 0 0 0 0 0 0 0 0 0 0 0 0 0 0 0 0 0 0 0 0 0 0 0 0 0 0 0 0 0 0 0 0 0 0\n",
      " 0 0]\n"
     ]
    }
   ],
   "source": [
    "print(y_kmeans3)"
   ]
  },
  {
   "cell_type": "code",
   "execution_count": 56,
   "metadata": {},
   "outputs": [
    {
     "data": {
      "text/plain": [
       "<matplotlib.collections.PathCollection at 0x7f61930205c0>"
      ]
     },
     "execution_count": 56,
     "metadata": {},
     "output_type": "execute_result"
    },
    {
     "data": {
      "image/png": "[encoded data removed]",
      "text/plain": [
       "<Figure size 432x288 with 1 Axes>"
      ]
     },
     "metadata": {
      "needs_background": "light"
     },
     "output_type": "display_data"
    }
   ],
   "source": [
    "plt.scatter(x[:,0],x[:,1],c=y_kmeans3,cmap='rainbow')"
   ]
  }
 ],
 "metadata": {
  "kernelspec": {
   "display_name": "Python 3",
   "language": "python",
   "name": "python3"
  },
  "language_info": {
   "codemirror_mode": {
    "name": "ipython",
    "version": 3
   },
   "file_extension": ".py",
   "mimetype": "text/x-python",
   "name": "python",
   "nbconvert_exporter": "python",
   "pygments_lexer": "ipython3",
   "version": "3.7.3"
  }
 },
 "nbformat": 4,
 "nbformat_minor": 2
}
